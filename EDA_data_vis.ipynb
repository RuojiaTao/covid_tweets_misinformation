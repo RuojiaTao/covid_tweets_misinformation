{
 "cells": [
  {
   "cell_type": "code",
   "execution_count": 1,
   "metadata": {},
   "outputs": [],
   "source": [
    "import gzip\n",
    "import shutil\n",
    "import os\n",
    "import wget\n",
    "import csv\n",
    "import linecache\n",
    "from shutil import copyfile\n",
    "import ipywidgets as widgets\n",
    "import numpy as np\n",
    "import pandas as pd\n",
    "import tweepy\n",
    "import json_lines\n",
    "import re\n",
    "import json\n",
    "from urllib.parse import urlparse\n",
    "import requests"
   ]
  },
  {
   "cell_type": "code",
   "execution_count": 2,
   "metadata": {},
   "outputs": [],
   "source": [
    "all_path=[\"data/all_data_split/xaa.pkl\",\"data/all_data_split/xab.pkl\",\"data/all_data_split/xac.pkl\",\"data/all_data_split/xad.pkl\",\"data/all_data_split/xae.pkl\",\"data/all_data_split/xaf.pkl\",\"data/all_data_split/xag.pkl\"]\n",
    "full_path=\"data/all_data_full_425.json\"\n",
    "#df = pd.read_pickle(all_path[0])"
   ]
  },
  {
   "cell_type": "code",
   "execution_count": 3,
   "metadata": {},
   "outputs": [],
   "source": [
    "#with open('data/all_data_split/xaa') as f:\n",
    "#    df = pd.DataFrame(json.loads(line) for line in f)\n",
    "#df.to_pickle(\"data/all_data_split/xaa.pkl\")\n",
    "with open('data/all_data_split/xab') as f:\n",
    "    df = pd.DataFrame(json.loads(line) for line in f)\n",
    "df.to_pickle(\"data/all_data_split/xab.pkl\")\n",
    "with open('data/all_data_split/xac') as f:\n",
    "    df = pd.DataFrame(json.loads(line) for line in f)\n",
    "df.to_pickle(\"data/all_data_split/xac.pkl\")\n",
    "with open('data/all_data_split/xad') as f:\n",
    "    df = pd.DataFrame(json.loads(line) for line in f)\n",
    "df.to_pickle(\"data/all_data_split/xad.pkl\")\n",
    "with open('data/all_data_split/xae') as f:\n",
    "    df = pd.DataFrame(json.loads(line) for line in f)\n",
    "df.to_pickle(\"data/all_data_split/xae.pkl\")\n",
    "with open('data/all_data_split/xaf') as f:\n",
    "    df = pd.DataFrame(json.loads(line) for line in f)\n",
    "df.to_pickle(\"data/all_data_split/xaf.pkl\")\n",
    "with open('data/all_data_split/xag') as f:\n",
    "    df = pd.DataFrame(json.loads(line) for line in f)\n",
    "df.to_pickle(\"data/all_data_split/xag.pkl\")"
   ]
  },
  {
   "cell_type": "markdown",
   "metadata": {},
   "source": [
    "This week we keep on hydrating the data and We are kind of worry about can we due with such as huge amount of data."
   ]
  },
  {
   "cell_type": "code",
   "execution_count": 4,
   "metadata": {},
   "outputs": [
    {
     "name": "stdout",
     "output_type": "stream",
     "text": [
      "data/all_data_split/xaa.pkl\n",
      "data/all_data_split/xab.pkl\n",
      "data/all_data_split/xac.pkl\n",
      "data/all_data_split/xad.pkl\n",
      "data/all_data_split/xae.pkl\n",
      "data/all_data_split/xaf.pkl\n",
      "data/all_data_split/xag.pkl\n"
     ]
    }
   ],
   "source": [
    "all_values=pd.DataFrame()\n",
    "for path in all_path:\n",
    "    print(path)\n",
    "    df = pd.read_pickle(path)\n",
    "    all_values=all_values.append(df[['author_id','text','id']])\n",
    "    df=0\n",
    "df=all_values\n",
    "pattern_link='.*http[s]?://(?:[a-zA-Z]|[0-9]|[$-_@.&+]|[!*\\(\\),]|(?:%[0-9a-fA-F][0-9a-fA-F]))+.*'\n",
    "pattern_re='RT @.*'\n",
    "series_a=df['text'].str.contains(pattern_re)  \n",
    "series_b=df['text'].str.contains(pattern_link)\n",
    "P_re=series_a.mean()\n",
    "P_url=series_b.mean()\n",
    "unqiue_author=len(df['author_id'].unique())"
   ]
  },
  {
   "cell_type": "code",
   "execution_count": 5,
   "metadata": {},
   "outputs": [],
   "source": [
    "\n",
    "with open('result.txt', 'w') as f:\n",
    "    f.write('EDA:'+'\\n')\n",
    "    f.write('- the proportion of tweets that contain a URL is '+str(P_url)+'\\n')\n",
    "    f.write('- the number of unique users is '+str(unqiue_author)+'\\n')\n",
    "    f.write('- the proportion of the data that are retweets '+str(P_re)+'\\n')\n",
    "    f.write('\\n')\n"
   ]
  },
  {
   "cell_type": "code",
   "execution_count": 6,
   "metadata": {},
   "outputs": [],
   "source": [
    "df=0"
   ]
  },
  {
   "cell_type": "code",
   "execution_count": 7,
   "metadata": {},
   "outputs": [
    {
     "data": {
      "image/png": "[encoded data removed]",
      "text/plain": [
       "<Figure size 432x288 with 1 Axes>"
      ]
     },
     "metadata": {
      "needs_background": "light"
     },
     "output_type": "display_data"
    }
   ],
   "source": [
    "all_values=pd.DataFrame()\n",
    "for path in all_path:\n",
    "    df = pd.read_pickle(path)\n",
    "    all_values=all_values.append(df[['author_id','text','id']])\n",
    "    df=0\n",
    "df=all_values\n",
    "all_values=0\n",
    "ax=df.groupby('author_id').count().groupby('text').count()['id'].plot(title='Tweets by Same Author')\n",
    "ax.set_ylabel('number of authors')\n",
    "ax.set_xlabel('counts of tweets')\n",
    "ax.figure.savefig('same_author.jpg')"
   ]
  },
  {
   "cell_type": "code",
   "execution_count": 8,
   "metadata": {},
   "outputs": [],
   "source": [
    "def extra_link(text):\n",
    "    pattern='http[s]?://(?:[a-zA-Z]|[0-9]|[$-_@.&+]|[!*\\(\\),]|(?:%[0-9a-fA-F][0-9a-fA-F]))+'\n",
    "    return re.findall(pattern,text)\n",
    "\n",
    "def check_domain(url_list):\n",
    "    if url_list:\n",
    "        try:\n",
    "            r=requests.head(url_list[0]) \n",
    "            link=r.headers['location']\n",
    "            domain=urlparse(link).netloc\n",
    "            return domain\n",
    "        except:\n",
    "            try: \n",
    "                link=requests.get(url_list[0]).url\n",
    "                domain=urlparse(link).netlocA\n",
    "                return domain\n",
    "            except:\n",
    "                return ''\n",
    "    return ''"
   ]
  },
  {
   "cell_type": "code",
   "execution_count": null,
   "metadata": {},
   "outputs": [],
   "source": [
    "count=0\n",
    "with open(full_path) as f:\n",
    "    for line in f:\n",
    "        load_line=json.loads(line)\n",
    "        count=count+1\n",
    "        if count<=470315:\n",
    "            continue\n",
    "        json_record=dict() \n",
    "        json_record['id']=load_line['id']\n",
    "        link_list=extra_link(load_line['text'])\n",
    "        json_record['domain']=check_domain(link_list)\n",
    "        with open('data/link_data.json','a+', encoding='utf-8') as f:\n",
    "            json_record = json.dumps(json_record, ensure_ascii=False)\n",
    "            f.write(json_record + '\\n')\n"
   ]
  },
  {
   "cell_type": "code",
   "execution_count": null,
   "metadata": {},
   "outputs": [],
   "source": [
    "with open('data/link_data.json') as f:\n",
    "    link_df=pd.DataFrame(json.loads(line) for line in f)"
   ]
  },
  {
   "cell_type": "code",
   "execution_count": null,
   "metadata": {},
   "outputs": [],
   "source": [
    "link_df"
   ]
  },
  {
   "cell_type": "code",
   "execution_count": null,
   "metadata": {},
   "outputs": [],
   "source": [
    "proportion_request=len(link_df[link_df['domain'].apply(lambda x: x !='')])/len(link_df)"
   ]
  },
  {
   "cell_type": "code",
   "execution_count": null,
   "metadata": {},
   "outputs": [],
   "source": [
    "proportion_request"
   ]
  },
  {
   "cell_type": "code",
   "execution_count": null,
   "metadata": {},
   "outputs": [],
   "source": [
    "misinfo=pd.read_csv('test/testdata/iffy.csv')\n",
    "domains=misinfo['Domain']\n",
    "\n",
    "\n",
    "misinfor_tweets=link_df['domain'].apply(lambda x: x in list(domains))\n",
    "proportion_mis=misinfor_tweets.mean()\n",
    "\n",
    "fact=['politifact.com', 'factcheck.org', 'washingtonpost.com', 'snopes.com', 'reporterslab.org', 'factcheck.org', 'flackcheck.org', 'mediabiasfactcheck.com', 'npr.org']\n",
    "proportion_fact=link_df['domain'].apply(lambda x: x in fact).mean()"
   ]
  },
  {
   "cell_type": "code",
   "execution_count": null,
   "metadata": {},
   "outputs": [],
   "source": [
    "\n",
    "proportion_mis"
   ]
  },
  {
   "cell_type": "code",
   "execution_count": null,
   "metadata": {},
   "outputs": [],
   "source": [
    "proportion_fact"
   ]
  },
  {
   "cell_type": "code",
   "execution_count": null,
   "metadata": {},
   "outputs": [],
   "source": [
    "all_values=pd.DataFrame()\n",
    "for path in all_path:\n",
    "    print(path)\n",
    "    df = pd.read_pickle(path)\n",
    "    all_values=all_values.append(df[['author_id','text','id','public_metrics']])\n",
    "    df=0\n",
    "df=all_values"
   ]
  },
  {
   "cell_type": "code",
   "execution_count": null,
   "metadata": {},
   "outputs": [],
   "source": [
    "df['retweet']=df['public_metrics'].apply(lambda x: x['retweet_count'])\n",
    "most_popular=df.sort_values('retweet',ascending=False).head(10000)\n",
    "most_popular.to_csv('most_popular.csv')"
   ]
  },
  {
   "cell_type": "code",
   "execution_count": null,
   "metadata": {},
   "outputs": [],
   "source": [
    "extra_text=most_popular['text'].apply(lambda x: extra_link(x))"
   ]
  },
  {
   "cell_type": "code",
   "execution_count": null,
   "metadata": {},
   "outputs": [],
   "source": [
    "top_links=extra_text.apply(lambda x: check_domain(x))"
   ]
  },
  {
   "cell_type": "code",
   "execution_count": null,
   "metadata": {},
   "outputs": [],
   "source": [
    "misinfor_tweets=top_links.apply(lambda x: x in list(domains))\n",
    "proportion_top_mis=misinfor_tweets.mean()\n",
    "\n",
    "fact=['politifact.com', 'factcheck.org', 'washingtonpost.com', 'snopes.com', 'reporterslab.org', 'factcheck.org', 'flackcheck.org', 'mediabiasfactcheck.com', 'npr.org']\n",
    "proportion_top_fact=top_links.apply(lambda x: x in fact).mean()"
   ]
  },
  {
   "cell_type": "code",
   "execution_count": null,
   "metadata": {},
   "outputs": [],
   "source": [
    "len(top_links[top_links.apply(lambda x: x !='')])/len(top_links)"
   ]
  },
  {
   "cell_type": "code",
   "execution_count": null,
   "metadata": {},
   "outputs": [],
   "source": [
    "proportion_top_fact"
   ]
  },
  {
   "cell_type": "code",
   "execution_count": null,
   "metadata": {},
   "outputs": [],
   "source": [
    "def cluster_ids(x):\n",
    "    if 'author_id' in x['referenced_tweets'][0].keys():\n",
    "        return (x['author_id'],x['referenced_tweets'][0]['author_id'])\n",
    "    else:\n",
    "        return False\n"
   ]
  },
  {
   "cell_type": "code",
   "execution_count": null,
   "metadata": {},
   "outputs": [],
   "source": [
    "import networkx as nx\n",
    "G = nx.DiGraph()\n",
    "for path in all_path:\n",
    "    print(path)\n",
    "    df_s = pd.read_pickle(path)\n",
    "    df_s=df_s[['author_id','text','id','referenced_tweets']]\n",
    "    df_s=pd.merge(link_df,df_s)\n",
    "    print('merge')\n",
    "    exist_RT=df_s[df_s['referenced_tweets'].notna()]\n",
    "    edges=exist_RT.apply(lambda x: cluster_ids(x)  , axis=1)\n",
    "    print('edge')\n",
    "    G.add_edges_from(edges[edges != False])\n",
    "    #df_s=0\n",
    "    edges=0\n",
    "    exist_RT=0\n",
    "    break"
   ]
  },
  {
   "cell_type": "code",
   "execution_count": null,
   "metadata": {},
   "outputs": [],
   "source": [
    "G.remove_edges_from(nx.selfloop_edges(G))"
   ]
  },
  {
   "cell_type": "code",
   "execution_count": null,
   "metadata": {},
   "outputs": [],
   "source": [
    "core_num=nx.algorithms.core.core_number(G)\n",
    "core_num"
   ]
  },
  {
   "cell_type": "code",
   "execution_count": null,
   "metadata": {},
   "outputs": [],
   "source": [
    "core_num"
   ]
  },
  {
   "cell_type": "code",
   "execution_count": null,
   "metadata": {},
   "outputs": [],
   "source": [
    "df_s['degree']=df_s['author_id'].apply(lambda x: core_num[x] if x in core_num.keys() else 0)\n",
    "df_s['misinfor_tweets']=df_s['domain'].apply(lambda x: x in list(domains))\n",
    "\n",
    "fact=['politifact.com', 'factcheck.org', 'washingtonpost.com', 'snopes.com', 'reporterslab.org', 'factcheck.org', 'flackcheck.org', 'mediabiasfactcheck.com', 'npr.org']\n",
    "df_s['fact_tweets']=df_s['domain'].apply(lambda x: x in fact)"
   ]
  },
  {
   "cell_type": "code",
   "execution_count": null,
   "metadata": {},
   "outputs": [],
   "source": [
    "ax=df_s.groupby('degree').mean()['misinfor_tweets'].plot()\n",
    "ax.figure.savefig('spead_mis.jpg')"
   ]
  },
  {
   "cell_type": "code",
   "execution_count": null,
   "metadata": {},
   "outputs": [],
   "source": [
    "ax=df_s.groupby('degree').mean()['fact_tweets'].plot()\n",
    "ax.figure.savefig('spead_fact.jpg')"
   ]
  },
  {
   "cell_type": "code",
   "execution_count": null,
   "metadata": {},
   "outputs": [],
   "source": [
    "average_tweet=list()"
   ]
  },
  {
   "cell_type": "code",
   "execution_count": null,
   "metadata": {},
   "outputs": [],
   "source": [
    "average_tweet.append(df_s[df_s['degree']==0].groupby('author_id').count()['text'].mean())\n",
    "average_tweet.append(df_s[df_s['degree']==1].groupby('author_id').count()['text'].mean())\n",
    "average_tweet.append(df_s[df_s['degree']==2].groupby('author_id').count()['text'].mean())\n",
    "average_tweet.append(df_s[df_s['degree']==3].groupby('author_id').count()['text'].mean())\n",
    "average_tweet.append(df_s[df_s['degree']==4].groupby('author_id').count()['text'].mean())\n",
    "average_tweet.append(df_s[df_s['degree']==5].groupby('author_id').count()['text'].mean())"
   ]
  },
  {
   "cell_type": "code",
   "execution_count": null,
   "metadata": {},
   "outputs": [],
   "source": [
    "ax=pd.DataFrame(average_tweet).plot.bar()\n",
    "ax.figure.savefig('average_tweets.jpg')"
   ]
  },
  {
   "cell_type": "code",
   "execution_count": null,
   "metadata": {},
   "outputs": [],
   "source": [
    "df_s[df_s['degree']==2]"
   ]
  },
  {
   "cell_type": "code",
   "execution_count": null,
   "metadata": {},
   "outputs": [],
   "source": [
    "max(list(core_num.values()))"
   ]
  },
  {
   "cell_type": "code",
   "execution_count": null,
   "metadata": {},
   "outputs": [],
   "source": [
    "G.number_of_edges()"
   ]
  },
  {
   "cell_type": "code",
   "execution_count": null,
   "metadata": {},
   "outputs": [],
   "source": [
    "ax=pd.Series(list(core_num.values())).hist()\n",
    "ax.set_title('spread of degree for each user')\n",
    "ax.set_ylabel('number of authors')\n",
    "ax.set_xlabel('degree of core')\n",
    "ax.figure.savefig('spead_cores.jpg')"
   ]
  },
  {
   "cell_type": "code",
   "execution_count": null,
   "metadata": {},
   "outputs": [],
   "source": [
    "core_num=nx.algorithms.core.core_number(G)\n",
    "max_core=max(list(core_num.values()))\n",
    "num_edge=G.number_of_edges()\n",
    "with open('result.txt', 'a') as f:\n",
    "    f.write('Misinformation:'+'\\n')\n",
    "    f.write('- the maximum degree of all the nodes is '+str(max_core)+'\\n')\n",
    "    f.write('- the number of edges in this graph is '+str(num_edge)+'\\n')\n",
    "    f.write('\\n')"
   ]
  },
  {
   "cell_type": "code",
   "execution_count": null,
   "metadata": {},
   "outputs": [],
   "source": []
  },
  {
   "cell_type": "code",
   "execution_count": null,
   "metadata": {},
   "outputs": [],
   "source": []
  },
  {
   "cell_type": "code",
   "execution_count": null,
   "metadata": {},
   "outputs": [],
   "source": []
  },
  {
   "cell_type": "code",
   "execution_count": null,
   "metadata": {},
   "outputs": [],
   "source": []
  },
  {
   "cell_type": "code",
   "execution_count": null,
   "metadata": {
    "scrolled": false
   },
   "outputs": [],
   "source": [
    "misinfo=pd.read_csv('testdata/iffy.csv')\n",
    "misinfo\n"
   ]
  },
  {
   "cell_type": "code",
   "execution_count": null,
   "metadata": {},
   "outputs": [],
   "source": [
    "def extra_link(text):\n",
    "    pattern='http[s]?://(?:[a-zA-Z]|[0-9]|[$-_@.&+]|[!*\\(\\),]|(?:%[0-9a-fA-F][0-9a-fA-F]))+'\n",
    "    return re.findall(pattern,text)"
   ]
  },
  {
   "cell_type": "code",
   "execution_count": null,
   "metadata": {},
   "outputs": [],
   "source": [
    "def check_domain(url_list):\n",
    "    if url_list:\n",
    "        try:\n",
    "            r=requests.head(url_list[0]) \n",
    "            link=r.headers['location']\n",
    "            domain=urlparse(link).netloc\n",
    "            return domain\n",
    "        except:\n",
    "            try: \n",
    "                link=requests.get(url_list[0]).url\n",
    "                domain=urlparse(link).netlocA\n",
    "                return domain\n",
    "            except:\n",
    "                return ''\n",
    "    return ''"
   ]
  },
  {
   "cell_type": "code",
   "execution_count": null,
   "metadata": {},
   "outputs": [],
   "source": [
    "domains=misinfo['Domain']\n",
    "domains"
   ]
  },
  {
   "cell_type": "code",
   "execution_count": null,
   "metadata": {},
   "outputs": [],
   "source": [
    "link_list=df['text'].apply(extra_link)\n",
    "checked=link_list.apply(lambda x:check_domain(x))"
   ]
  },
  {
   "cell_type": "code",
   "execution_count": null,
   "metadata": {},
   "outputs": [],
   "source": [
    "proportion_mis=checked.apply(lambda x: x in domains).mean()"
   ]
  },
  {
   "cell_type": "code",
   "execution_count": null,
   "metadata": {},
   "outputs": [],
   "source": [
    "df['retweet']=df['public_metrics'].apply(lambda x: x['retweet_count'])\n",
    "most_popular=df.sort_values('retweet').head(200)\n"
   ]
  },
  {
   "cell_type": "code",
   "execution_count": null,
   "metadata": {},
   "outputs": [],
   "source": [
    "most_popular.to_csv('most_popular.csv')"
   ]
  },
  {
   "cell_type": "code",
   "execution_count": null,
   "metadata": {},
   "outputs": [],
   "source": []
  },
  {
   "cell_type": "code",
   "execution_count": null,
   "metadata": {},
   "outputs": [],
   "source": []
  }
 ],
 "metadata": {
  "kernelspec": {
   "display_name": "Python 3",
   "language": "python",
   "name": "python3"
  },
  "language_info": {
   "codemirror_mode": {
    "name": "ipython",
    "version": 3
   },
   "file_extension": ".py",
   "mimetype": "text/x-python",
   "name": "python",
   "nbconvert_exporter": "python",
   "pygments_lexer": "ipython3",
   "version": "3.7.6"
  }
 },
 "nbformat": 4,
 "nbformat_minor": 4
}
